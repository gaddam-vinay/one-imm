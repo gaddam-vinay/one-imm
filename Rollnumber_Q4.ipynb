{
 "cells": [
  {
   "cell_type": "markdown",
   "id": "improving-pepper",
   "metadata": {},
   "source": [
    "# Assignment 2 - Question 4\n",
    "The objective of this assignment is to get you familiarize with  the  problem  of  `Linear Regression`.\n",
    "\n",
    "## Instructions\n",
    "- Write your code and analysis in the indicated cells.\n",
    "- Ensure that this notebook runs without errors when the cells are run in sequence.\n",
    "- Do not attempt to change the contents of other cells.\n",
    "- No inbuilt functions to be used until specified\n",
    "\n",
    "## Submission\n",
    "- Ensure that this notebook runs without errors when the cells are run in sequence.\n",
    "- Rename the notebook to `<roll_number>_Q4.ipynb`.\n",
    "- Fill the Name and Roll number in the below markdown"
   ]
  },
  {
   "cell_type": "markdown",
   "id": "6f6269f1",
   "metadata": {},
   "source": [
    "Name: cinay chandra reddy\n",
    "Roll Number:2020101010"
   ]
  },
  {
   "cell_type": "markdown",
   "id": "final-transaction",
   "metadata": {},
   "source": [
    "## Background about the dataset\n",
    "\n",
    "TLDR: You have 4 independent variables (`float`) for each molecule. You can use a linear combination of these 4 independent variables to predict the bandgap (dependent variable) of each molecule.\n",
    "\n",
    "You can read more about the problem in [Li et al, Bandgap tuning strategy by cations and halide ions of lead halide perovskites learned from machine learning, RSC Adv., 2021,11, 15688-15694](https://doi.org/10.1039/D1RA03117A)."
   ]
  },
  {
   "cell_type": "code",
   "execution_count": 143,
   "id": "lyric-olympus",
   "metadata": {},
   "outputs": [],
   "source": [
    "import csv\n",
    "import random\n",
    "import numpy as np"
   ]
  },
  {
   "cell_type": "code",
   "execution_count": 144,
   "id": "hundred-receipt",
   "metadata": {},
   "outputs": [],
   "source": [
    "all_molecules = list()\n",
    "\n",
    "with open('bg_data.txt', 'r') as infile:\n",
    "    input_rows = csv.DictReader(infile)\n",
    "    \n",
    "    for row in input_rows:\n",
    "        current_mol = ([float(row['Cs']), float(row['FA']), float(row['Cl']), float(row['Br'])], float(row['Bandgap']))\n",
    "        all_molecules.append(current_mol)\n",
    "\n",
    "random.shuffle(all_molecules)\n",
    "\n",
    "\n",
    "num_train = int(len(all_molecules) * 0.8)\n",
    "\n",
    "# each point in x_train has 4 values - 1 for each feature\n",
    "x_train = [x[0] for x in all_molecules[:num_train]]\n",
    "# each point in y_train has 1 value - the bandgap of the molecule\n",
    "y_train = [x[1] for x in all_molecules[:num_train]]\n",
    "\n",
    "x_test = [x[0] for x in all_molecules[num_train:]]\n",
    "y_test = [x[1] for x in all_molecules[num_train:]]\n",
    "\n",
    "for i in range(len(x_train)):\n",
    "    x_train[i].append(1)\n",
    "for i in range(len(x_test)):\n",
    "    x_test[i].append(1)\n",
    "x_train=np.array(x_train)\n",
    "y_test=np.array(y_test)\n",
    "x_test=np.array(x_test)\n",
    "y_train=np.array(y_train)\n",
    "# print(x_test)"
   ]
  },
  {
   "cell_type": "markdown",
   "id": "square-direction",
   "metadata": {},
   "source": [
    "### 4.1 Implement a Linear Regression model that minimizes the MSE **without using any libraries**. You may use NumPy to vectorize your code, but *do not use numpy.polyfit* or anything similar.\n",
    "\n",
    "4.1.1 Explain how you plan to implement Linear Regression in 5-10 lines."
   ]
  },
  {
   "cell_type": "markdown",
   "id": "e8cf0b26",
   "metadata": {},
   "source": [
    "we have 4 independent variables so we will have 5 parameters which need to be adjusted using the gradient decent algorithm by the use of loss function first we initilise the parameters to 0 then we will calculate the gradient and will adjust the parameter vector using the gradient as  new = old - a * gradient  we will continue till some number of iterations or untill there is very less decrease of loss function after this we are left with the parameters required then we will use these parameters to estimate the output values and will calculate the final mean square error"
   ]
  },
  {
   "cell_type": "markdown",
   "id": "frozen-forth",
   "metadata": {},
   "source": [
    "<!-- your answer to 1.1.1 -->"
   ]
  },
  {
   "cell_type": "markdown",
   "id": "addressed-winter",
   "metadata": {},
   "source": [
    "4.1.2 Implement Linear Regression using `x_train` and `y_train` as the train dataset.\n",
    "\n",
    "4.1.2.1 Choose the best learning rate and print the learning rate for which you achieved the best MSE."
   ]
  },
  {
   "cell_type": "code",
   "execution_count": 145,
   "id": "angry-depression",
   "metadata": {},
   "outputs": [
    {
     "name": "stdout",
     "output_type": "stream",
     "text": [
      "[-0.01322621 -0.12661986  1.52455339  0.62359001  1.61017154]\n",
      "0.005482775681873623\n"
     ]
    }
   ],
   "source": [
    "# implement Linear Regression\n",
    "\n",
    "para=np.full((5),0,dtype=float)\n",
    "a=0.01\n",
    "lnow=0\n",
    "sum=0\n",
    "# print(len(x_train))\n",
    "for i in range(len(x_train)):\n",
    "    sum=sum+((np.dot(para,x_train[i],out=None))-y_train[i])**2\n",
    "sum=sum*(1/len(x_train))\n",
    "lprev=sum\n",
    "f=0\n",
    "while(f<100000):\n",
    "    sum=0\n",
    "    for i in range(len(x_train)):\n",
    "        sum=sum+x_train[i]*(np.sum(np.dot(para,x_train[i],out=None))-y_train[i])\n",
    "    sum=sum*(1/len(x_train))\n",
    "    dnow=sum\n",
    "    sum=0\n",
    "    for i in range(len(x_train)):\n",
    "        sum=sum+((np.dot(para,x_train[i],out=None))-y_train[i])**2\n",
    "    sum=sum*(1/len(x_train))\n",
    "    lnow=sum\n",
    "    if((lnow)<=(lprev)):\n",
    "        para=para-a*dnow\n",
    "        lprev=lnow\n",
    "    else:\n",
    "        break\n",
    "    f=f+1\n",
    "\n",
    "\n",
    "y_pred=np.full(len(y_test),0,dtype=float)\n",
    "\n",
    "for i in range(len(y_test)):\n",
    "    y_pred[i]=np.sum(np.dot(x_test[i],para))\n",
    "\n",
    "print(para)\n",
    "sum=0\n",
    "for i in range(len(x_test)):\n",
    "    sum=sum+((np.dot(para,x_test[i],out=None))-y_test[i])*((np.dot(para,x_test[i],out=None))-y_test[i])\n",
    "sum=sum*(1/len(x_test))\n",
    "lnow=sum\n",
    "print(lnow)\n",
    "\n",
    "# from sklearn import linear_model\n",
    "\n",
    "# x=linear_model.LinearRegression()\n",
    "\n",
    "# x.fit(x_train,y_train)\n",
    "\n",
    "# print(x.coef_)\n",
    "# y_pred=x.predict(x_test)\n",
    "\n",
    "\n",
    "\n",
    "\n",
    "\n",
    "\n"
   ]
  },
  {
   "cell_type": "markdown",
   "id": "angry-tampa",
   "metadata": {},
   "source": [
    "4.1.3 Make a [Parity Plot](https://en.wikipedia.org/wiki/Parity_plot) of your model's bandgap predictions on the test set with the actual values."
   ]
  },
  {
   "cell_type": "code",
   "execution_count": 149,
   "id": "foster-center",
   "metadata": {},
   "outputs": [
    {
     "data": {
      "image/png": "[encoded data removed]",
      "text/plain": [
       "<Figure size 1000x2000 with 1 Axes>"
      ]
     },
     "metadata": {},
     "output_type": "display_data"
    }
   ],
   "source": [
    "# Get the predictions of x_test into `y_pred`\n",
    "\n",
    "#\n",
    "# ...\n",
    "#\n",
    "\n",
    "import matplotlib.pyplot as plt\n",
    "fig, ax = plt.subplots(figsize=(10,20))\n",
    "\n",
    "ax.scatter(y_test, y_pred)\n",
    "\n",
    "lims = [\n",
    "    np.min([ax.get_xlim(), ax.get_ylim()]),\n",
    "    np.max([ax.get_xlim(), ax.get_ylim()]),\n",
    "]\n",
    "ax.plot(lims, lims, 'k-', alpha=0.75, zorder=0)\n",
    "ax.set_aspect('equal')\n",
    "ax.set_xlim(lims)\n",
    "ax.set_ylim(lims)\n",
    "\n",
    "ax.set_title('Parity Plot of Custom Linear Regression')\n",
    "ax.set_xlabel('Ground truth bandgap values')\n",
    "ax.set_ylabel('Predicted bandgap values')\n",
    "plt.show()"
   ]
  },
  {
   "cell_type": "markdown",
   "id": "dominant-chaos",
   "metadata": {},
   "source": [
    "### 4.2 Implement Ridge regression\n",
    "4.2.1 Explain Ridge regression briefly in 1-2 lines."
   ]
  },
  {
   "cell_type": "markdown",
   "id": "8f8a2fb9",
   "metadata": {},
   "source": [
    "A Ridge regressor is basically a regularized version of a Linear Regressor. i.e to the original cost function of linear regressor we add a regularized term that forces the learning algorithm to fit the data and helps to keep the weights lower as possible"
   ]
  },
  {
   "cell_type": "markdown",
   "id": "happy-cyprus",
   "metadata": {},
   "source": [
    "<!-- Your answer to 1.2.1 -->"
   ]
  },
  {
   "cell_type": "markdown",
   "id": "tight-forwarding",
   "metadata": {},
   "source": [
    "4.2.2 Implement Ridge regression and make a table of different RMSE scores you achieved with different values of alpha. What does the parameter `alpha` do? How does it affect the results here? Explain in 5-10 lines in total. (You can use scikit-learn from this cell onwards)"
   ]
  },
  {
   "cell_type": "markdown",
   "id": "542995bd",
   "metadata": {},
   "source": [
    "answer) alpha controls the regularization of the model i.e helps in reducing the variance of the estimates. as we can see from beow that the lower the value of alpha the greather is the score and the rsme increases as we increase the value of alpha"
   ]
  },
  {
   "cell_type": "code",
   "execution_count": 160,
   "id": "violent-northern",
   "metadata": {},
   "outputs": [
    {
     "name": "stdout",
     "output_type": "stream",
     "text": [
      "0.01   0.9779325431303051   0.025845955383833046\n",
      "0.06   0.9773037512057762   0.02658241215468132\n",
      "0.11   0.9765547788028253   0.027459627296629825\n",
      "0.16   0.9756940914838915   0.028467685731996734\n",
      "0.21   0.9747295510040027   0.029597379577386902\n",
      "0.26   0.9736684633454546   0.030840151884277956\n",
      "0.31   0.972517622471212   0.032188045393947234\n",
      "0.36   0.9712833502211277   0.033633655810025156\n",
      "0.41   0.9699715327288336   0.03517008914612587\n",
      "0.46   0.9685876536964125   0.03679092275372195\n",
      "0.51   0.9671368248280127   0.03849016967753647\n",
      "0.56   0.9656238136917976   0.04026224602293361\n",
      "0.61   0.96405306925151   0.04210194105271425\n",
      "0.66   0.9624287452840216   0.044004389759898656\n",
      "0.71   0.9607547218771292   0.04596504768897105\n",
      "0.76   0.959034625182222   0.04797966780106488\n",
      "0.81   0.9572718455789626   0.05004427919903443\n",
      "0.86   0.955469554393565   0.05215516754659179\n",
      "0.91   0.9536307192983607   0.05430885703195079\n",
      "0.96   0.9517581185079489   0.05650209374094294\n"
     ]
    }
   ],
   "source": [
    "# you should not have imported sklearn before this point\n",
    "import sklearn\n",
    "from sklearn.linear_model import Lasso,Ridge\n",
    "for i in range(1,100,5):\n",
    "    model = Ridge(alpha = i/100, random_state = 42)\n",
    "    model.fit(x_train, y_train)\n",
    "    score = model.score(x_test, y_test)\n",
    "    xyy=model.predict(x_test)\n",
    "    sq=(np.sum(np.square(xyy-y_test)))*(1/len(y_test))**.5\n",
    "    print(i/100,\" \",score,\" \",sq)\n",
    "# implement Ridge regression and make a table where you explore the effect of different values of `alpha`"
   ]
  },
  {
   "cell_type": "markdown",
   "id": "adolescent-temperature",
   "metadata": {},
   "source": [
    "### 4.3 Implement Lasso regression\n",
    "4.3.1 Explain Lasso regression briefly in 1-2 lines."
   ]
  },
  {
   "cell_type": "markdown",
   "id": "053fe060",
   "metadata": {},
   "source": [
    "Lasso stands for least absolute shrinkage and selection operator. it can be used to perform linear regression while also reducing the number of features used in the model "
   ]
  },
  {
   "cell_type": "markdown",
   "id": "popular-wonder",
   "metadata": {},
   "source": [
    "4.3.2 Implement Lasso regression and make a table of different RMSE scores you achieved with different values of alpha. What does the parameter `alpha` do? How does it affect the results here? Explain in 5-10 lines in total."
   ]
  },
  {
   "cell_type": "markdown",
   "id": "065c4da5",
   "metadata": {},
   "source": []
  },
  {
   "cell_type": "code",
   "execution_count": 168,
   "id": "extra-brighton",
   "metadata": {},
   "outputs": [
    {
     "name": "stdout",
     "output_type": "stream",
     "text": [
      "0.01   0.9517581185079489   0.05080081898424266\n",
      "0.06   0.9517581185079489   0.6009603368679766\n",
      "0.11   0.9517581185079489   1.2017119839130987\n",
      "0.16   0.9517581185079489   1.2017119839130987\n",
      "0.21   0.9517581185079489   1.2017119839130987\n",
      "0.26   0.9517581185079489   1.2017119839130987\n",
      "0.31   0.9517581185079489   1.2017119839130987\n",
      "0.36   0.9517581185079489   1.2017119839130987\n",
      "0.41   0.9517581185079489   1.2017119839130987\n",
      "0.46   0.9517581185079489   1.2017119839130987\n",
      "0.51   0.9517581185079489   1.2017119839130987\n",
      "0.56   0.9517581185079489   1.2017119839130987\n",
      "0.61   0.9517581185079489   1.2017119839130987\n",
      "0.66   0.9517581185079489   1.2017119839130987\n",
      "0.71   0.9517581185079489   1.2017119839130987\n",
      "0.76   0.9517581185079489   1.2017119839130987\n",
      "0.81   0.9517581185079489   1.2017119839130987\n",
      "0.86   0.9517581185079489   1.2017119839130987\n",
      "0.91   0.9517581185079489   1.2017119839130987\n",
      "0.96   0.9517581185079489   1.2017119839130987\n"
     ]
    }
   ],
   "source": [
    "# implement Lasso regression and make a table where you explore the effect of different values of `alpha`\n",
    "for i in range(1,100,5):\n",
    "    lasso = Lasso(alpha=i/100)\n",
    "\n",
    "    lasso.fit(x_train, y_train)\n",
    "    xyy=lasso.predict(x_test)\n",
    "\n",
    "    lasso.score(x_test, y_test)\n",
    "    sq=(np.sum(np.square(xyy-y_test)))*(1/len(y_test))**0.5\n",
    "    print(i/100,\" \",score,\" \",sq)"
   ]
  },
  {
   "cell_type": "code",
   "execution_count": null,
   "id": "accompanied-worst",
   "metadata": {},
   "outputs": [],
   "source": []
  }
 ],
 "metadata": {
  "kernelspec": {
   "display_name": "Python 3 (ipykernel)",
   "language": "python",
   "name": "python3"
  },
  "language_info": {
   "codemirror_mode": {
    "name": "ipython",
    "version": 3
   },
   "file_extension": ".py",
   "mimetype": "text/x-python",
   "name": "python",
   "nbconvert_exporter": "python",
   "pygments_lexer": "ipython3",
   "version": "3.10.12"
  },
  "vscode": {
   "interpreter": {
    "hash": "916dbcbb3f70747c44a77c7bcd40155683ae19c65e1c03b4aa3499c5328201f1"
   }
  }
 },
 "nbformat": 4,
 "nbformat_minor": 5
}
